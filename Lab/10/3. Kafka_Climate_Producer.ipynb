{
 "cells": [
  {
   "cell_type": "code",
   "execution_count": null,
   "metadata": {},
   "outputs": [],
   "source": [
    "#Requires python geohash\n",
    "#Install geohash using !pip install python-geohash\n",
    "# import statements\n",
    "from time import sleep\n",
    "from json import dumps\n",
    "from kafka import KafkaProducer\n",
    "import random\n",
    "import datetime as dt\n",
    "import geohash\n",
    "\n",
    "\n",
    "def publish_message(producer_instance, topic_name, key, value):\n",
    "    try:\n",
    "        key_bytes = bytes(key, encoding='utf-8')\n",
    "        value_bytes = bytes(value, encoding='utf-8')\n",
    "        producer_instance.send(topic_name, key=key_bytes, value=value_bytes)\n",
    "        producer_instance.flush()\n",
    "        print('Data: ' + str(data))\n",
    "    except Exception as ex:\n",
    "        print('Exception in publishing message.')\n",
    "        print(str(ex))\n",
    "        \n",
    "def connect_kafka_producer():\n",
    "    _producer = None\n",
    "    try:\n",
    "        _producer = KafkaProducer(bootstrap_servers=['localhost:9092'],\n",
    "                                  api_version=(0, 10))\n",
    "    except Exception as ex:\n",
    "        print('Exception while connecting Kafka.')\n",
    "        print(str(ex))\n",
    "    finally:\n",
    "        return _producer"
   ]
  },
  {
   "cell_type": "code",
   "execution_count": null,
   "metadata": {},
   "outputs": [],
   "source": [
    "topic = 'Climate'\n",
    "print('Publishing records..')\n",
    "producer = connect_kafka_producer()\n",
    "climate_records = [\"-36.704,144.252,19,56.8,7.9\",\n",
    "\"-36.748,145.486,15,50.7,9.2\",\n",
    "\"-36.216,146.388,16,53.6,8.1\",\n",
    "\"-36.218,146.377,24,61.6,7.7\",\n",
    "\"-37.232,143.252,24,62.3,7\"]\n",
    "climate_header =['latitude','longitude','air_temperature_celcius','relative_humidity','wind_speed_knots']\n",
    "\n",
    "for e in range(1000):\n",
    "    record = climate_records[random.randrange(0,5)]\n",
    "    key = geohash.encode(float(record[1:7]), float(record[9:15]), 3)\n",
    "    data = str(record)\n",
    "    publish_message(producer, topic, key, data)\n",
    "    sleep(10)"
   ]
  }
 ],
 "metadata": {
  "kernelspec": {
   "display_name": "Python 3",
   "language": "python",
   "name": "python3"
  },
  "language_info": {
   "codemirror_mode": {
    "name": "ipython",
    "version": 3
   },
   "file_extension": ".py",
   "mimetype": "text/x-python",
   "name": "python",
   "nbconvert_exporter": "python",
   "pygments_lexer": "ipython3",
   "version": "3.8.2"
  }
 },
 "nbformat": 4,
 "nbformat_minor": 2
}
