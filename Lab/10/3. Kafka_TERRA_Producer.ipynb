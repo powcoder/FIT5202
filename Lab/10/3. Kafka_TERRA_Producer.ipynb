{
 "cells": [
  {
   "cell_type": "code",
   "execution_count": null,
   "metadata": {},
   "outputs": [],
   "source": [
    "#Requires python geohash\n",
    "#Install geohash using !pip install python-geohash\n",
    "# import statements\n",
    "from time import sleep\n",
    "from json import dumps\n",
    "from kafka import KafkaProducer\n",
    "import random\n",
    "import datetime as dt\n",
    "import geohash\n",
    "\n",
    "def publish_message(producer_instance, topic_name, key, value):\n",
    "    try:\n",
    "        key_bytes = bytes(key, encoding='utf-8')\n",
    "        value_bytes = bytes(value, encoding='utf-8')\n",
    "        producer_instance.send(topic_name, key=key_bytes, value=value_bytes)\n",
    "        producer_instance.flush()\n",
    "        print('Data: ' + str(data))\n",
    "    except Exception as ex:\n",
    "        print('Exception in publishing message.')\n",
    "        print(str(ex))\n",
    "        \n",
    "def connect_kafka_producer():\n",
    "    _producer = None\n",
    "    try:\n",
    "        _producer = KafkaProducer(bootstrap_servers=['localhost:9092'],\n",
    "                                  api_version=(0, 10))\n",
    "    except Exception as ex:\n",
    "        print('Exception while connecting Kafka.')\n",
    "        print(str(ex))\n",
    "    finally:\n",
    "        return _producer"
   ]
  },
  {
   "cell_type": "code",
   "execution_count": null,
   "metadata": {},
   "outputs": [],
   "source": [
    "topic = 'Terra'\n",
    "print('Publishing records..')\n",
    "producer = connect_kafka_producer()\n",
    "terra_records = [\"-36.704,144.252,89.5,90,66\",\n",
    "\"-36.748,145.486,21,99,46\",\n",
    "\"-36.216,146.388,19.9,81,59\",\n",
    "\"-36.218,146.377,22.5,83,60\",\n",
    "\"-37.232,143.252,30.5,80,55\",\n",
    "\"-36.822,143.854,22,83,59\",\n",
    "\"-36.821,143.865,215.2,100,122\",\n",
    "\"-36.812,143.863,94,100,93\",\n",
    "\"-36.819,143.877,55.3,95,78\",\n",
    "\"-36.813,143.852,36.2,90,69\"]\n",
    "terra_header = ['latitude','longitude','power','confidence','surface_temperature_celcius']\n",
    "for e in range(1000):\n",
    "    record = terra_records[random.randrange(0,10)]\n",
    "    key = geohash.encode(float(record[1:7]), float(record[9:15]), 3)\n",
    "    data = str(record)\n",
    "    publish_message(producer, topic, key, data)\n",
    "    sleep(2)"
   ]
  },
  {
   "cell_type": "code",
   "execution_count": null,
   "metadata": {},
   "outputs": [],
   "source": []
  },
  {
   "cell_type": "code",
   "execution_count": null,
   "metadata": {},
   "outputs": [],
   "source": []
  }
 ],
 "metadata": {
  "kernelspec": {
   "display_name": "Python 3",
   "language": "python",
   "name": "python3"
  },
  "language_info": {
   "codemirror_mode": {
    "name": "ipython",
    "version": 3
   },
   "file_extension": ".py",
   "mimetype": "text/x-python",
   "name": "python",
   "nbconvert_exporter": "python",
   "pygments_lexer": "ipython3",
   "version": "3.8.2"
  }
 },
 "nbformat": 4,
 "nbformat_minor": 2
}
